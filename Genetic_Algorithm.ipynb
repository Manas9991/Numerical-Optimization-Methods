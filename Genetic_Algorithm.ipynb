{
  "nbformat": 4,
  "nbformat_minor": 0,
  "metadata": {
    "colab": {
      "name": "Genetic Algorithm.ipynb",
      "provenance": [],
      "collapsed_sections": [],
      "authorship_tag": "ABX9TyOUNgQGIaMOz9jy1iWuk++t",
      "include_colab_link": true
    },
    "kernelspec": {
      "name": "python3",
      "display_name": "Python 3"
    }
  },
  "cells": [
    {
      "cell_type": "markdown",
      "metadata": {
        "id": "view-in-github",
        "colab_type": "text"
      },
      "source": [
        "<a href=\"https://colab.research.google.com/github/Manas9991/Numerical-Optimization-Methods/blob/master/Genetic_Algorithm.ipynb\" target=\"_parent\"><img src=\"https://colab.research.google.com/assets/colab-badge.svg\" alt=\"Open In Colab\"/></a>"
      ]
    },
    {
      "cell_type": "markdown",
      "metadata": {
        "id": "Tdq-lc738wPt"
      },
      "source": [
        "#Setup"
      ]
    },
    {
      "cell_type": "code",
      "metadata": {
        "id": "eXKUVfoBYPMB"
      },
      "source": [
        "from random import randint\n",
        "import pandas as pd"
      ],
      "execution_count": 1,
      "outputs": []
    },
    {
      "cell_type": "code",
      "metadata": {
        "id": "v305MSNAVk-U"
      },
      "source": [
        "def fitness(x):\n",
        "  return x*x"
      ],
      "execution_count": 2,
      "outputs": []
    },
    {
      "cell_type": "code",
      "metadata": {
        "id": "e1an0JJj8mL8"
      },
      "source": [
        "def bin2dec(x):\n",
        "  binary = int(x)\n",
        "  binary1 = binary \n",
        "  decimal, i, n = 0, 0, 0\n",
        "  while(binary != 0): \n",
        "      dec = binary % 10\n",
        "      decimal = decimal + dec * pow(2, i) \n",
        "      binary = binary//10\n",
        "      i += 1\n",
        "  return decimal\n",
        "\n",
        "def dec2bin(x): #encoding individuals to binary to get chromosomes\n",
        "  dec = ''\n",
        "  while (x > 0):\n",
        "    dec += str(x%2)\n",
        "    x = int(x/2)\n",
        "  dec = dec[::-1]\n",
        "  return dec"
      ],
      "execution_count": 3,
      "outputs": []
    },
    {
      "cell_type": "code",
      "metadata": {
        "id": "mS8zayv7XMuW"
      },
      "source": [
        "## Declare parameters ##\n",
        "rang = [0, 50]\n",
        "lr = rang[0]\n",
        "hr = rang[1]\n",
        "population = 50\n",
        "iterations = 10"
      ],
      "execution_count": 4,
      "outputs": []
    },
    {
      "cell_type": "markdown",
      "metadata": {
        "id": "wWYTOF3V81yk"
      },
      "source": [
        "#Genetic Algorithm"
      ]
    },
    {
      "cell_type": "code",
      "metadata": {
        "id": "r7ofm8cDYeTU"
      },
      "source": [
        "init_pop = [randint(lr, hr) for i in range(population)]\n",
        "\n",
        "for q in range(iterations):\n",
        "\n",
        "  fitness_val = [fitness(i) for i in init_pop]\n",
        "  total_fitness = sum(fitness_val)\n",
        "  fitness_ratio = [i/total_fitness for i in fitness_val]\n",
        "  pareto = [randint(1, 99)/100 for i in range(population)]\n",
        "  Pareto_select = []\n",
        "  for i in range(population):\n",
        "    val = [abs(j-pareto[i]) for j in fitness_ratio]\n",
        "    \n",
        "    I = 0\n",
        "    t = 1\n",
        "    for k in range(len(val)):\n",
        "      if (val[k] <= t):\n",
        "        t = val[k]\n",
        "        I = k\n",
        "\n",
        "    Pareto_select.append(init_pop[I])\n",
        "\n",
        "  occurences = [Pareto_select.count(i) for i in init_pop]\n",
        "  occurences.sort(reverse = True)\n",
        "  selectocc = [occurences[0], occurences[1]]\n",
        "  selected = [0, 0]\n",
        "  for i in range(population):\n",
        "    if (Pareto_select.count(init_pop[i]) == selectocc[0]):\n",
        "      selected[0] = init_pop[i]\n",
        "    if (Pareto_select.count(init_pop[i]) == selectocc[1]):\n",
        "      selected[1] = init_pop[i]\n",
        "\n",
        "  encoded = [dec2bin(i) for i in selected]\n",
        "  #the length of encoded chromosomes should be equal, thus:\n",
        "  chromlen = max(len(encoded[0]), len(encoded[1]))\n",
        "  flag = 1\n",
        "  while (flag == 1):\n",
        "    if (len(encoded[0]) < chromlen):\n",
        "      encoded[0] = '0'+encoded[0]\n",
        "    elif (len(encoded[1]) < chromlen):\n",
        "      encoded[1] = '0'+encoded[1]\n",
        "    else:\n",
        "      flag = 0\n",
        "\n",
        "  numberofpos = randint(1, chromlen) #number of positions to swap\n",
        "\n",
        "  positions = [] #positions for swapping chromosomes\n",
        "  i = 0\n",
        "  for i in range(numberofpos):\n",
        "    a = randint(0, chromlen-1)\n",
        "    while (a in positions):\n",
        "      a = randint(0, chromlen-1)\n",
        "    positions.append(a)\n",
        "\n",
        "  for i in positions:\n",
        "    a = encoded[0] #placeholder for swapping\n",
        "    b = encoded[1]\n",
        "    #strings in python are immutabe so simply swapping the chromosome won't work\n",
        "    \n",
        "    new_a = ''\n",
        "    new_b = ''\n",
        "\n",
        "    for j in range(chromlen):\n",
        "      if (j == i):\n",
        "        new_a += b[j]\n",
        "        new_b += a[j] \n",
        "      else:\n",
        "        new_a += a[j]\n",
        "        new_b += b[j]\n",
        "    encoded[0] = new_a\n",
        "    encoded[1] = new_b    \n",
        "\n",
        "  for i in range(len(init_pop)): #update initial population\n",
        "    if (init_pop[i] == selected[0]):\n",
        "      init_pop[i] = bin2dec(encoded[0])\n",
        "    elif (init_pop[i] == selected[1]):\n",
        "      init_pop[i] = bin2dec(encoded[1])"
      ],
      "execution_count": 5,
      "outputs": []
    },
    {
      "cell_type": "markdown",
      "metadata": {
        "id": "-mQOVD3z9gkE"
      },
      "source": [
        "#Results"
      ]
    },
    {
      "cell_type": "code",
      "metadata": {
        "colab": {
          "base_uri": "https://localhost:8080/",
          "height": 204
        },
        "id": "gXXb1q4ydq2E",
        "outputId": "234a1268-48b4-4a15-cd12-e732674a9b2c"
      },
      "source": [
        "table = pd.DataFrame(zip(init_pop, fitness_val, fitness_ratio, pareto, Pareto_select), columns = ['Population', 'Fitness Value', 'Fitness Ratio', 'Pareto Random', 'Pareto Selection'])\n",
        "table.head()"
      ],
      "execution_count": 6,
      "outputs": [
        {
          "output_type": "execute_result",
          "data": {
            "text/html": [
              "<div>\n",
              "<style scoped>\n",
              "    .dataframe tbody tr th:only-of-type {\n",
              "        vertical-align: middle;\n",
              "    }\n",
              "\n",
              "    .dataframe tbody tr th {\n",
              "        vertical-align: top;\n",
              "    }\n",
              "\n",
              "    .dataframe thead th {\n",
              "        text-align: right;\n",
              "    }\n",
              "</style>\n",
              "<table border=\"1\" class=\"dataframe\">\n",
              "  <thead>\n",
              "    <tr style=\"text-align: right;\">\n",
              "      <th></th>\n",
              "      <th>Population</th>\n",
              "      <th>Fitness Value</th>\n",
              "      <th>Fitness Ratio</th>\n",
              "      <th>Pareto Random</th>\n",
              "      <th>Pareto Selection</th>\n",
              "    </tr>\n",
              "  </thead>\n",
              "  <tbody>\n",
              "    <tr>\n",
              "      <th>0</th>\n",
              "      <td>25</td>\n",
              "      <td>625</td>\n",
              "      <td>0.015376</td>\n",
              "      <td>0.83</td>\n",
              "      <td>50</td>\n",
              "    </tr>\n",
              "    <tr>\n",
              "      <th>1</th>\n",
              "      <td>48</td>\n",
              "      <td>2304</td>\n",
              "      <td>0.056683</td>\n",
              "      <td>0.85</td>\n",
              "      <td>50</td>\n",
              "    </tr>\n",
              "    <tr>\n",
              "      <th>2</th>\n",
              "      <td>13</td>\n",
              "      <td>169</td>\n",
              "      <td>0.004158</td>\n",
              "      <td>0.09</td>\n",
              "      <td>50</td>\n",
              "    </tr>\n",
              "    <tr>\n",
              "      <th>3</th>\n",
              "      <td>21</td>\n",
              "      <td>441</td>\n",
              "      <td>0.010850</td>\n",
              "      <td>0.36</td>\n",
              "      <td>50</td>\n",
              "    </tr>\n",
              "    <tr>\n",
              "      <th>4</th>\n",
              "      <td>14</td>\n",
              "      <td>196</td>\n",
              "      <td>0.004822</td>\n",
              "      <td>0.85</td>\n",
              "      <td>50</td>\n",
              "    </tr>\n",
              "  </tbody>\n",
              "</table>\n",
              "</div>"
            ],
            "text/plain": [
              "   Population  Fitness Value  Fitness Ratio  Pareto Random  Pareto Selection\n",
              "0          25            625       0.015376           0.83                50\n",
              "1          48           2304       0.056683           0.85                50\n",
              "2          13            169       0.004158           0.09                50\n",
              "3          21            441       0.010850           0.36                50\n",
              "4          14            196       0.004822           0.85                50"
            ]
          },
          "metadata": {
            "tags": []
          },
          "execution_count": 6
        }
      ]
    },
    {
      "cell_type": "code",
      "metadata": {
        "colab": {
          "base_uri": "https://localhost:8080/"
        },
        "id": "PndbV_cL9f_p",
        "outputId": "011674e3-64f2-4127-9600-11c3d81dbb39"
      },
      "source": [
        "fit = [fitness(i) for i in init_pop]\n",
        "MaxVal = max(fit)\n",
        "answer = 0\n",
        "for i in range(population):\n",
        "  if (fit[i] == MaxVal):\n",
        "    answer = init_pop[i]\n",
        "\n",
        "print(\"The maximum value is\", MaxVal, \"on x =\", answer, 'in', iterations, 'iterations.')"
      ],
      "execution_count": 7,
      "outputs": [
        {
          "output_type": "stream",
          "text": [
            "The maximum value is 2500 on x = 50 in 10 iterations.\n"
          ],
          "name": "stdout"
        }
      ]
    }
  ]
}